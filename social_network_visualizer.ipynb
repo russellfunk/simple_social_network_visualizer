{
 "cells": [
  {
   "cell_type": "markdown",
   "metadata": {},
   "source": [
    "# Social network visualizer\n",
    "\n",
    "This notebook will help you visualize a small social network using the Python programming language."
   ]
  },
  {
   "cell_type": "code",
   "execution_count": 21,
   "metadata": {},
   "outputs": [],
   "source": [
    "# load some packages\n",
    "import networkx as nx"
   ]
  },
  {
   "cell_type": "markdown",
   "metadata": {},
   "source": [
    "All you need to do to visualize your network is add the relationships between the network members in the list below. Replace the names in the list with the names of people from your own network. You can add or remove entries from the list if you have more or fewer people in your network. If two people appear on the same line together, it means they are connected. Once you've added the relationships, press the \"play\" button above and run through each cell of the notebook until the visualization pops up."
   ]
  },
  {
   "cell_type": "code",
   "execution_count": 22,
   "metadata": {},
   "outputs": [],
   "source": [
    "# add your network data\n",
    "relationships = [\n",
    "\n",
    "                 (\"Me\", \"Sally\"),\n",
    "                 (\"Me\", \"Joe\"),\n",
    "                 (\"Me\", \"Sue\"),\n",
    "                 (\"Me\", \"Ron\"),\n",
    "                 (\"Joe\", \"Sue\"),\n",
    "                 (\"Ron\", \"Sue\"),\n",
    "    \n",
    "                ]"
   ]
  },
  {
   "cell_type": "code",
   "execution_count": 23,
   "metadata": {},
   "outputs": [],
   "source": [
    "# create the network\n",
    "G = nx.Graph()\n",
    "for person_a, person_b in relationships:\n",
    "  G.add_edge(person_a, person_b)"
   ]
  },
  {
   "cell_type": "code",
   "execution_count": 24,
   "metadata": {},
   "outputs": [
    {
     "data": {
      "image/png": "[encoded data removed]",
      "text/plain": [
       "<Figure size 432x288 with 1 Axes>"
      ]
     },
     "metadata": {},
     "output_type": "display_data"
    }
   ],
   "source": [
    "# plot the network\n",
    "nx.draw_spring(G, \n",
    "               with_labels=True,\n",
    "               node_size=2500,\n",
    "               node_shape=\"s\",\n",
    "               node_color=\"white\")"
   ]
  }
 ],
 "metadata": {
  "kernelspec": {
   "display_name": "Python 3",
   "language": "python",
   "name": "python3"
  },
  "language_info": {
   "codemirror_mode": {
    "name": "ipython",
    "version": 3
   },
   "file_extension": ".py",
   "mimetype": "text/x-python",
   "name": "python",
   "nbconvert_exporter": "python",
   "pygments_lexer": "ipython3",
   "version": "3.7.4"
  }
 },
 "nbformat": 4,
 "nbformat_minor": 4
}
